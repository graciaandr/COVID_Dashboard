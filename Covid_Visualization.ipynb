{
 "cells": [
  {
   "cell_type": "markdown",
   "id": "b58f1c49-bed0-4cc9-95ab-9f9da7e39d02",
   "metadata": {},
   "source": [
    "# COVID-19 Dashboard\n",
    "### NHS Region: London \n",
    "#### Overview of hospital cases, new admissions and transmission growth rate"
   ]
  },
  {
   "cell_type": "markdown",
   "id": "6102be40-c450-45d3-a44c-c302494519c4",
   "metadata": {},
   "source": [
    "The figures and tables of this dashboard are meant to show the daily number of COVID-19 hospital cases, new admissions of new admissions and the mininimum/maximum transmission growth rate from the NHS region of London from March 2020 to October 2021. Data was extracted from the [NHS dashboard](https://coronavirus.data.gov.uk/) on 27/10/2021."
   ]
  },
  {
   "cell_type": "code",
   "execution_count": 1,
   "id": "c11a7d13-388e-4021-ba8c-cb476d2c0b86",
   "metadata": {},
   "outputs": [],
   "source": [
    "import pandas as pd\n",
    "import matplotlib.pyplot as plt\n",
    "import json\n",
    "import numpy as np"
   ]
  },
  {
   "cell_type": "code",
   "execution_count": 2,
   "id": "beae5c6b-4817-4bd2-9424-443985be2496",
   "metadata": {},
   "outputs": [],
   "source": [
    "# an iPython  \"magic\" that enables the embedding of matplotlib output\n",
    "%matplotlib inline\n",
    "# make figures larger\n",
    "plt.rcParams['figure.dpi'] = 120"
   ]
  },
  {
   "cell_type": "markdown",
   "id": "82d8d1a9-ff1d-469e-82b2-6aa8619dc060",
   "metadata": {},
   "source": [
    "#### Loading the data and data preprocessing"
   ]
  },
  {
   "cell_type": "code",
   "execution_count": 3,
   "id": "8ae17e9d-076b-4cb6-837b-cbd1c7d98aa2",
   "metadata": {},
   "outputs": [],
   "source": [
    "with open(\"region_nhs_london.json\", \"rt\") as INFILE:\n",
    "    data=json.load(INFILE)"
   ]
  },
  {
   "cell_type": "code",
   "execution_count": 4,
   "id": "1afba522-0abe-42b6-a152-943f60802827",
   "metadata": {},
   "outputs": [],
   "source": [
    "datalist=data['body']\n",
    "dates=[dictionary['date'] for dictionary in datalist ]\n",
    "dates.sort()\n",
    "# dates"
   ]
  },
  {
   "cell_type": "code",
   "execution_count": 5,
   "id": "a143afdd-238c-4c0a-ad92-d38830ecb92b",
   "metadata": {
    "tags": []
   },
   "outputs": [],
   "source": [
    "def parse_date(datestring):\n",
    "    \"\"\" Convert a date string into a pandas datetime object \"\"\"\n",
    "    return pd.to_datetime(datestring, format=\"%Y-%m-%d\")"
   ]
  },
  {
   "cell_type": "code",
   "execution_count": 6,
   "id": "73702d0c-0aff-4579-a8dc-ff871f8a1111",
   "metadata": {},
   "outputs": [],
   "source": [
    "startdate=parse_date(dates[0])\n",
    "enddate=parse_date(dates[-1])\n",
    "# print (startdate, ' to ', enddate)"
   ]
  },
  {
   "cell_type": "markdown",
   "id": "b71de3cb-ead9-4580-b07b-112c45820dda",
   "metadata": {},
   "source": [
    "#### Creating time series data frame"
   ]
  },
  {
   "cell_type": "code",
   "execution_count": 7,
   "id": "d67acbde-df22-4539-8c96-349fe8d0c2c9",
   "metadata": {},
   "outputs": [
    {
     "data": {
      "text/html": [
       "<div>\n",
       "<style scoped>\n",
       "    .dataframe tbody tr th:only-of-type {\n",
       "        vertical-align: middle;\n",
       "    }\n",
       "\n",
       "    .dataframe tbody tr th {\n",
       "        vertical-align: top;\n",
       "    }\n",
       "\n",
       "    .dataframe thead th {\n",
       "        text-align: right;\n",
       "    }\n",
       "</style>\n",
       "<table border=\"1\" class=\"dataframe\">\n",
       "  <thead>\n",
       "    <tr style=\"text-align: right;\">\n",
       "      <th></th>\n",
       "      <th>hospitalCases</th>\n",
       "      <th>newAdmissions</th>\n",
       "      <th>transmissionRateGrowthRateMax</th>\n",
       "      <th>transmissionRateGrowthRateMin</th>\n",
       "    </tr>\n",
       "  </thead>\n",
       "  <tbody>\n",
       "    <tr>\n",
       "      <th>2020-03-19</th>\n",
       "      <td>NaN</td>\n",
       "      <td>NaN</td>\n",
       "      <td>NaN</td>\n",
       "      <td>NaN</td>\n",
       "    </tr>\n",
       "    <tr>\n",
       "      <th>2020-03-20</th>\n",
       "      <td>NaN</td>\n",
       "      <td>NaN</td>\n",
       "      <td>NaN</td>\n",
       "      <td>NaN</td>\n",
       "    </tr>\n",
       "    <tr>\n",
       "      <th>2020-03-21</th>\n",
       "      <td>NaN</td>\n",
       "      <td>NaN</td>\n",
       "      <td>NaN</td>\n",
       "      <td>NaN</td>\n",
       "    </tr>\n",
       "  </tbody>\n",
       "</table>\n",
       "</div>"
      ],
      "text/plain": [
       "           hospitalCases newAdmissions transmissionRateGrowthRateMax  \\\n",
       "2020-03-19           NaN           NaN                           NaN   \n",
       "2020-03-20           NaN           NaN                           NaN   \n",
       "2020-03-21           NaN           NaN                           NaN   \n",
       "\n",
       "           transmissionRateGrowthRateMin  \n",
       "2020-03-19                           NaN  \n",
       "2020-03-20                           NaN  \n",
       "2020-03-21                           NaN  "
      ]
     },
     "execution_count": 7,
     "metadata": {},
     "output_type": "execute_result"
    }
   ],
   "source": [
    "index=pd.date_range(startdate, enddate, freq='D')\n",
    "timeseriesdf=pd.DataFrame(index=index, columns=['hospitalCases', 'newAdmissions', 'transmissionRateGrowthRateMax', 'transmissionRateGrowthRateMin'])\n",
    "timeseriesdf.head(3)"
   ]
  },
  {
   "cell_type": "markdown",
   "id": "34bfddb1-2229-488c-b5c2-d1f42110a4fd",
   "metadata": {},
   "source": [
    "#### Adding the data from the json to the time series data frame"
   ]
  },
  {
   "cell_type": "code",
   "execution_count": 8,
   "id": "7f9d2427-1641-482b-84ee-e2a918dca6be",
   "metadata": {},
   "outputs": [
    {
     "data": {
      "text/html": [
       "<div>\n",
       "<style scoped>\n",
       "    .dataframe tbody tr th:only-of-type {\n",
       "        vertical-align: middle;\n",
       "    }\n",
       "\n",
       "    .dataframe tbody tr th {\n",
       "        vertical-align: top;\n",
       "    }\n",
       "\n",
       "    .dataframe thead th {\n",
       "        text-align: right;\n",
       "    }\n",
       "</style>\n",
       "<table border=\"1\" class=\"dataframe\">\n",
       "  <thead>\n",
       "    <tr style=\"text-align: right;\">\n",
       "      <th></th>\n",
       "      <th>hospitalCases</th>\n",
       "      <th>newAdmissions</th>\n",
       "      <th>transmissionRateGrowthRateMax</th>\n",
       "      <th>transmissionRateGrowthRateMin</th>\n",
       "    </tr>\n",
       "  </thead>\n",
       "  <tbody>\n",
       "    <tr>\n",
       "      <th>2020-03-19</th>\n",
       "      <td>0.0</td>\n",
       "      <td>240.0</td>\n",
       "      <td>0.0</td>\n",
       "      <td>0.0</td>\n",
       "    </tr>\n",
       "    <tr>\n",
       "      <th>2020-03-20</th>\n",
       "      <td>841.0</td>\n",
       "      <td>272.0</td>\n",
       "      <td>0.0</td>\n",
       "      <td>0.0</td>\n",
       "    </tr>\n",
       "    <tr>\n",
       "      <th>2020-03-21</th>\n",
       "      <td>1081.0</td>\n",
       "      <td>311.0</td>\n",
       "      <td>0.0</td>\n",
       "      <td>0.0</td>\n",
       "    </tr>\n",
       "    <tr>\n",
       "      <th>2020-03-22</th>\n",
       "      <td>1266.0</td>\n",
       "      <td>335.0</td>\n",
       "      <td>0.0</td>\n",
       "      <td>0.0</td>\n",
       "    </tr>\n",
       "    <tr>\n",
       "      <th>2020-03-23</th>\n",
       "      <td>1559.0</td>\n",
       "      <td>505.0</td>\n",
       "      <td>0.0</td>\n",
       "      <td>0.0</td>\n",
       "    </tr>\n",
       "  </tbody>\n",
       "</table>\n",
       "</div>"
      ],
      "text/plain": [
       "            hospitalCases  newAdmissions  transmissionRateGrowthRateMax  \\\n",
       "2020-03-19            0.0          240.0                            0.0   \n",
       "2020-03-20          841.0          272.0                            0.0   \n",
       "2020-03-21         1081.0          311.0                            0.0   \n",
       "2020-03-22         1266.0          335.0                            0.0   \n",
       "2020-03-23         1559.0          505.0                            0.0   \n",
       "\n",
       "            transmissionRateGrowthRateMin  \n",
       "2020-03-19                            0.0  \n",
       "2020-03-20                            0.0  \n",
       "2020-03-21                            0.0  \n",
       "2020-03-22                            0.0  \n",
       "2020-03-23                            0.0  "
      ]
     },
     "execution_count": 8,
     "metadata": {},
     "output_type": "execute_result"
    }
   ],
   "source": [
    "for entry in datalist: # each entry is a dictionary with date, cases, hospital and deaths\n",
    "    date=parse_date(entry['date'])\n",
    "    for column in ['hospitalCases', 'newAdmissions', 'transmissionRateGrowthRateMax', 'transmissionRateGrowthRateMin']:\n",
    "        # check that nothing is there yet - just in case some dates are duplicated,\n",
    "        # maybe with data for different columns in each entry\n",
    "        if pd.isna(timeseriesdf.loc[date, column]): \n",
    "            # replace None with 0 in our data \n",
    "            value= float(entry[column]) if entry[column]!=None else 0.0\n",
    "            # this is the way you access a specific location in the dataframe - use .loc\n",
    "            # and put index,column in a single set of [ ]\n",
    "            timeseriesdf.loc[date, column]=value\n",
    "            \n",
    "# fill in any remaining \"holes\" due to missing dates\n",
    "timeseriesdf.fillna(0.0, inplace=True)\n",
    "       \n",
    "\n",
    "timeseriesdf.head()"
   ]
  },
  {
   "cell_type": "code",
   "execution_count": 9,
   "id": "f00ea497-8790-4e88-b7a3-7819992ee055",
   "metadata": {},
   "outputs": [
    {
     "data": {
      "text/plain": [
       "2020-03-19    240.0\n",
       "2020-03-20    272.0\n",
       "2020-03-21    311.0\n",
       "2020-03-22    335.0\n",
       "2020-03-23    505.0\n",
       "              ...  \n",
       "2021-10-22    109.0\n",
       "2021-10-23     93.0\n",
       "2021-10-24     96.0\n",
       "2021-10-25      0.0\n",
       "2021-10-26      0.0\n",
       "Freq: D, Name: newAdmissions, Length: 587, dtype: float64"
      ]
     },
     "execution_count": 9,
     "metadata": {},
     "output_type": "execute_result"
    }
   ],
   "source": [
    "timeseriesdf ['newAdmissions']"
   ]
  },
  {
   "cell_type": "code",
   "execution_count": 10,
   "id": "3904393c-4554-4f74-9f59-0a28bc0f1739",
   "metadata": {},
   "outputs": [
    {
     "data": {
      "text/plain": [
       "Timestamp('2020-03-19 00:00:00')"
      ]
     },
     "execution_count": 10,
     "metadata": {},
     "output_type": "execute_result"
    }
   ],
   "source": [
    "startdate"
   ]
  },
  {
   "cell_type": "markdown",
   "id": "24ec07cb-2976-4606-add4-d301367aa706",
   "metadata": {},
   "source": [
    " ## Plot of Hospital Cases, New Admissions and Transmission Growth Rates"
   ]
  },
  {
   "cell_type": "code",
   "execution_count": 11,
   "id": "8a4dc8a8-eaf8-4d12-b802-86a405fbc664",
   "metadata": {},
   "outputs": [
    {
     "data": {
      "image/png": "[encoded data removed]",
      "text/plain": [
       "<Figure size 720x480 with 2 Axes>"
      ]
     },
     "metadata": {
      "needs_background": "light"
     },
     "output_type": "display_data"
    }
   ],
   "source": [
    "import matplotlib.dates as mdates\n",
    "myFmt = mdates.DateFormatter('%b%y')\n",
    "\n",
    "data1 = timeseriesdf['hospitalCases']\n",
    "data2 = timeseriesdf['newAdmissions']\n",
    "\n",
    "fig, ax1 = plt.subplots()\n",
    "plt.title(\"NHS Region: London - Hospital Cases and New Admissions (March 2020 to October 2021)\")\n",
    "color = 'tab:red'\n",
    "ax1.set_xlabel('Time')\n",
    "ax1.set_ylabel('Number of hospital cases', color=color)\n",
    "ax1.plot(data1, color=color)\n",
    "ax1.xaxis.set_major_formatter(myFmt)\n",
    "ax1.tick_params(axis='y', labelcolor=color)\n",
    "\n",
    "\n",
    "ax2 = ax1.twinx()  # instantiate a second axes that shares the same x-axis\n",
    "\n",
    "color = 'tab:blue'\n",
    "ax2.set_ylabel('Number of new admissions', color=color)  # we already handled the x-label with ax1\n",
    "ax2.plot(data2, color=color)\n",
    "ax2.xaxis.set_major_formatter(myFmt)\n",
    "ax2.tick_params(axis='y', labelcolor=color)\n",
    "\n",
    "fig.tight_layout()  # otherwise the right y-label is slightly clipped\n",
    "plt.show()"
   ]
  },
  {
   "cell_type": "code",
   "execution_count": 12,
   "id": "728e6405-4c12-431d-b45e-c192c79b486c",
   "metadata": {},
   "outputs": [
    {
     "data": {
      "image/png": "[encoded data removed]",
      "text/plain": [
       "<Figure size 720x480 with 2 Axes>"
      ]
     },
     "metadata": {},
     "output_type": "display_data"
    }
   ],
   "source": [
    "data1 = timeseriesdf ['transmissionRateGrowthRateMin']\n",
    "data2 = timeseriesdf ['transmissionRateGrowthRateMax']\n",
    "\n",
    "import matplotlib.dates as mdates\n",
    "myFmt = mdates.DateFormatter('%b%y')\n",
    "\n",
    "data1 = timeseriesdf['transmissionRateGrowthRateMin']\n",
    "data2 = timeseriesdf['transmissionRateGrowthRateMax']\n",
    "\n",
    "fig, ax1 = plt.subplots()\n",
    "plt.title(\"NHS Region: London - Transmission Growth Rates (March 2020 to October 2021)\")\n",
    "color = 'orange'\n",
    "ax1.set_xlabel('Time')\n",
    "ax1.set_ylabel('Minimum Transmission Growth Rate', color=color)\n",
    "ax1.plot(data1, color=color)\n",
    "ax1.xaxis.set_major_formatter(myFmt)\n",
    "ax1.tick_params(axis='y', labelcolor=color)\n",
    "\n",
    "\n",
    "ax2 = ax1.twinx()  # instantiate a second axes that shares the same x-axis\n",
    "\n",
    "color = 'grey'\n",
    "ax2.set_ylabel('Maximum Transmission Growth Rate', color=color)  # we already handled the x-label with ax1\n",
    "ax2.plot(data2, color=color)\n",
    "ax2.xaxis.set_major_formatter(myFmt)\n",
    "ax2.tick_params(axis='y', labelcolor=color)\n",
    "\n",
    "fig.tight_layout()  # otherwise the right y-label is slightly clipped\n",
    "plt.show()"
   ]
  },
  {
   "cell_type": "code",
   "execution_count": 13,
   "id": "8dd7ca16-49c2-4924-bc7f-13964b7b317f",
   "metadata": {},
   "outputs": [],
   "source": [
    "# timeseriesdf.plot(logy=True)"
   ]
  },
  {
   "cell_type": "markdown",
   "id": "9d49c7d6-91b5-4d00-8c82-b1d1dc9bdf62",
   "metadata": {},
   "source": [
    "## Interactive Graphs"
   ]
  },
  {
   "cell_type": "markdown",
   "id": "d7afced2-0cfe-4594-b4e7-3027940f6b9b",
   "metadata": {},
   "source": [
    "#### Create pickle object for interactive graphs"
   ]
  },
  {
   "cell_type": "code",
   "execution_count": 14,
   "id": "1725b680-69df-41dd-a94b-7658bc63e273",
   "metadata": {},
   "outputs": [],
   "source": [
    "timeseriesdf.to_pickle(\"timeseriesdf.pkl\")"
   ]
  },
  {
   "cell_type": "code",
   "execution_count": 15,
   "id": "6530a47b-9897-4b1d-a891-00dc71cbb709",
   "metadata": {},
   "outputs": [],
   "source": [
    "from IPython.display import clear_output\n",
    "import ipywidgets as wdg\n",
    "import pandas as pd\n",
    "import matplotlib.pyplot as plt"
   ]
  },
  {
   "cell_type": "code",
   "execution_count": 16,
   "id": "02b31308-8087-4254-b95e-9378ff294e32",
   "metadata": {},
   "outputs": [],
   "source": [
    "%matplotlib inline\n",
    "# make figures larger\n",
    "plt.rcParams['figure.dpi'] = 120"
   ]
  },
  {
   "cell_type": "code",
   "execution_count": 17,
   "id": "49a13b63-7f37-4327-b61a-00d21c9fc18d",
   "metadata": {},
   "outputs": [
    {
     "data": {
      "application/vnd.jupyter.widget-view+json": {
       "model_id": "0687cb3d1ea44d3d937f9fc073c753f7",
       "version_major": 2,
       "version_minor": 0
      },
      "text/plain": [
       "Button(description='Refresh data', icon='download', style=ButtonStyle(), tooltip='Click to download current Pu…"
      ]
     },
     "metadata": {},
     "output_type": "display_data"
    }
   ],
   "source": [
    "# our API access function. This will be called by the button when it is clicked\n",
    "def access_api(button):\n",
    "    # Ignore the button parameter\n",
    "    #\n",
    "    # put code for polling the API here\n",
    "    #\n",
    "    # after all is done, you can switch the icon on the button to a \"check\" sign\n",
    "    # and optionally disable the button - it won't be needed again.\n",
    "    apibutton.icon=\"check\"\n",
    "    apibutton.disabled=True\n",
    "\n",
    "# see the doc for the parameters    \n",
    "apibutton=wdg.Button(\n",
    "    description='Refresh data',\n",
    "    disabled=False,\n",
    "    button_style='', # 'success', 'info', 'warning', 'danger' or ''\n",
    "    tooltip='Click to download current Public Health England data',\n",
    "    icon='download' # (FontAwesome names without the `fa-` prefix)\n",
    ")\n",
    "\n",
    "# register the callback function with the button\n",
    "apibutton.on_click(access_api)\n",
    "\n",
    "# this is an iPython function that generalises print for Jupyter Notebooks; we use it to \n",
    "# display the widgets\n",
    "display(apibutton)"
   ]
  },
  {
   "cell_type": "markdown",
   "id": "f61a3386-b207-4d50-8d01-431e0da765df",
   "metadata": {},
   "source": [
    "#### Read in data from pickle object"
   ]
  },
  {
   "cell_type": "code",
   "execution_count": 18,
   "id": "e68d8c21-9824-4dff-a691-8c1faf953230",
   "metadata": {},
   "outputs": [],
   "source": [
    "timeseriesdf=pd.read_pickle(\"timeseriesdf.pkl\")"
   ]
  },
  {
   "cell_type": "code",
   "execution_count": 19,
   "id": "d57552b8-0098-4883-9e9c-2e0194bb2255",
   "metadata": {},
   "outputs": [
    {
     "data": {
      "text/html": [
       "<div>\n",
       "<style scoped>\n",
       "    .dataframe tbody tr th:only-of-type {\n",
       "        vertical-align: middle;\n",
       "    }\n",
       "\n",
       "    .dataframe tbody tr th {\n",
       "        vertical-align: top;\n",
       "    }\n",
       "\n",
       "    .dataframe thead th {\n",
       "        text-align: right;\n",
       "    }\n",
       "</style>\n",
       "<table border=\"1\" class=\"dataframe\">\n",
       "  <thead>\n",
       "    <tr style=\"text-align: right;\">\n",
       "      <th></th>\n",
       "      <th>hospitalCases</th>\n",
       "      <th>newAdmissions</th>\n",
       "      <th>transmissionRateGrowthRateMax</th>\n",
       "      <th>transmissionRateGrowthRateMin</th>\n",
       "    </tr>\n",
       "  </thead>\n",
       "  <tbody>\n",
       "    <tr>\n",
       "      <th>2020-03-19</th>\n",
       "      <td>0.0</td>\n",
       "      <td>240.0</td>\n",
       "      <td>0.0</td>\n",
       "      <td>0.0</td>\n",
       "    </tr>\n",
       "    <tr>\n",
       "      <th>2020-03-20</th>\n",
       "      <td>841.0</td>\n",
       "      <td>272.0</td>\n",
       "      <td>0.0</td>\n",
       "      <td>0.0</td>\n",
       "    </tr>\n",
       "    <tr>\n",
       "      <th>2020-03-21</th>\n",
       "      <td>1081.0</td>\n",
       "      <td>311.0</td>\n",
       "      <td>0.0</td>\n",
       "      <td>0.0</td>\n",
       "    </tr>\n",
       "    <tr>\n",
       "      <th>2020-03-22</th>\n",
       "      <td>1266.0</td>\n",
       "      <td>335.0</td>\n",
       "      <td>0.0</td>\n",
       "      <td>0.0</td>\n",
       "    </tr>\n",
       "    <tr>\n",
       "      <th>2020-03-23</th>\n",
       "      <td>1559.0</td>\n",
       "      <td>505.0</td>\n",
       "      <td>0.0</td>\n",
       "      <td>0.0</td>\n",
       "    </tr>\n",
       "  </tbody>\n",
       "</table>\n",
       "</div>"
      ],
      "text/plain": [
       "            hospitalCases  newAdmissions  transmissionRateGrowthRateMax  \\\n",
       "2020-03-19            0.0          240.0                            0.0   \n",
       "2020-03-20          841.0          272.0                            0.0   \n",
       "2020-03-21         1081.0          311.0                            0.0   \n",
       "2020-03-22         1266.0          335.0                            0.0   \n",
       "2020-03-23         1559.0          505.0                            0.0   \n",
       "\n",
       "            transmissionRateGrowthRateMin  \n",
       "2020-03-19                            0.0  \n",
       "2020-03-20                            0.0  \n",
       "2020-03-21                            0.0  \n",
       "2020-03-22                            0.0  \n",
       "2020-03-23                            0.0  "
      ]
     },
     "execution_count": 19,
     "metadata": {},
     "output_type": "execute_result"
    }
   ],
   "source": [
    "timeseriesdf.head(5)"
   ]
  },
  {
   "cell_type": "code",
   "execution_count": 20,
   "id": "4f9f9029-29f6-4304-9857-83ea09918463",
   "metadata": {},
   "outputs": [
    {
     "data": {
      "application/vnd.jupyter.widget-view+json": {
       "model_id": "115fb1e1df50404c9bc7c946b1dc2f36",
       "version_major": 2,
       "version_minor": 0
      },
      "text/plain": [
       "HBox(children=(SelectMultiple(description='Stats:', index=(0, 1), options=('hospitalCases', 'newAdmissions', '…"
      ]
     },
     "metadata": {},
     "output_type": "display_data"
    },
    {
     "data": {
      "application/vnd.jupyter.widget-view+json": {
       "model_id": "08d927ef38ae4443b3bd6b5af8809363",
       "version_major": 2,
       "version_minor": 0
      },
      "text/plain": [
       "Output()"
      ]
     },
     "metadata": {},
     "output_type": "display_data"
    }
   ],
   "source": [
    "series=wdg.SelectMultiple(\n",
    "    options=['hospitalCases', 'newAdmissions', 'transmissionRateGrowthRateMax', 'transmissionRateGrowthRateMin'],\n",
    "    value=['hospitalCases', 'newAdmissions'],\n",
    "    rows=3,\n",
    "    description='Stats:',\n",
    "    disabled=False\n",
    ")\n",
    "\n",
    "scale=wdg.RadioButtons(\n",
    "    options=['linear', 'log'],\n",
    "#    value='pineapple', # Defaults to 'pineapple'\n",
    "#    layout={'width': 'max-content'}, # If the items' names are long\n",
    "    description='Scale:',\n",
    "    disabled=False\n",
    ")\n",
    "\n",
    "# try replacing HBox with a VBox\n",
    "controls=wdg.HBox([series, scale])\n",
    "\n",
    "def timeseries_graph(gcols, gscale):\n",
    "    if gscale=='linear':\n",
    "        logscale=False\n",
    "    else:\n",
    "        logscale=True\n",
    "    ncols=len(gcols)\n",
    "    if ncols>0:\n",
    "        timeseriesdf[list(gcols)].plot(logy=logscale)\n",
    "        plt.show() # important - graphs won't update if this is missing \n",
    "    else:\n",
    "        print(\"Click to select data for graph\")\n",
    "        print(\"(CTRL-Click to select more than one category)\")\n",
    "\n",
    "# keep calling timeseries_graph(gcols=value_of_series, gscale=value_of_scale); \n",
    "# capture output in widget graph   \n",
    "graph=wdg.interactive_output(timeseries_graph, {'gcols': series, 'gscale': scale})\n",
    "\n",
    "display(controls, graph)"
   ]
  },
  {
   "cell_type": "markdown",
   "id": "9b60ebbb-dc0f-4386-be44-160d64194a3f",
   "metadata": {},
   "source": [
    "### Drop down interactive Graph and Button Configuration"
   ]
  },
  {
   "cell_type": "code",
   "execution_count": 21,
   "id": "197dd800-6fa3-4867-8016-f6c5e584d6d3",
   "metadata": {},
   "outputs": [],
   "source": [
    "from IPython.display import clear_output\n",
    "import ipywidgets as wdg\n",
    "import pandas as pd\n",
    "import numpy as np\n",
    "import matplotlib.pyplot as plt\n",
    "import json\n",
    "from uk_covid19 import Cov19API"
   ]
  },
  {
   "cell_type": "code",
   "execution_count": 22,
   "id": "d80dfddf-8f93-4176-aa07-7e5386833a2f",
   "metadata": {},
   "outputs": [],
   "source": [
    "%matplotlib inline\n",
    "# make figures larger\n",
    "plt.rcParams['figure.dpi'] = 100"
   ]
  },
  {
   "cell_type": "code",
   "execution_count": 23,
   "id": "c54fde45-a6e4-4a4c-b1a4-0f242e1910e2",
   "metadata": {},
   "outputs": [],
   "source": [
    "with open(\"region_nhs_london.json\", \"rt\") as INFILE:\n",
    "    jsondata =json.load(INFILE) "
   ]
  },
  {
   "cell_type": "code",
   "execution_count": 24,
   "id": "381e27b5-303e-4ff8-9362-bb2b68b0e36a",
   "metadata": {},
   "outputs": [],
   "source": [
    "def wrangle_data(rawdata):\n",
    "    \"\"\" Parameters: rawdata - data from json file or API call. Returns a dataframe.\n",
    "    Edit to include the code that wrangles the data, creates the dataframe and fills it in. \"\"\"\n",
    "    \n",
    "    datalist=rawdata['body']\n",
    "\n",
    "    index=pd.date_range(startdate, enddate, freq='D')\n",
    "    timeseriesdf=pd.DataFrame(index=index, columns=['hospitalCases', 'newAdmissions', \n",
    "                                                    'transmissionRateGrowthRateMax', 'transmissionRateGrowthRateMin'])\n",
    "    \n",
    "    for entry in datalist: # each entry is a dictionary with date, cases, hospital and deaths\n",
    "        date=parse_date(entry['date'])\n",
    "        for column in ['hospitalCases', 'newAdmissions', 'transmissionRateGrowthRateMax', 'transmissionRateGrowthRateMin']:\n",
    "            if pd.isna(timeseriesdf.loc[date, column]): \n",
    "                # replace None with 0 in our data \n",
    "                value= float(entry[column]) if entry[column]!=None else 0.0\n",
    "                # this is the way you access a specific location in the dataframe - use .loc\n",
    "                # and put index,column in a single set of [ ]\n",
    "                timeseriesdf.loc[date, column]=value  \n",
    "                \n",
    "    # fill in any remaining \"holes\" due to missing dates\n",
    "    timeseriesdf.fillna(0.0, inplace=True)\n",
    "    return timeseriesdf\n",
    "\n",
    "# putting the wrangling code into a function allows you to call it again after refreshing the data through \n",
    "# the API. You should call the function directly on the JSON data when the dashboard starts, by including \n",
    "# the call in the cell as below:\n",
    "df=wrangle_data(jsondata) # df is the dataframe for plotting"
   ]
  },
  {
   "cell_type": "code",
   "execution_count": 25,
   "id": "165c699b-23a7-4103-8f1c-c022fd321dd7",
   "metadata": {},
   "outputs": [
    {
     "data": {
      "application/vnd.jupyter.widget-view+json": {
       "model_id": "8006769aef234042a013c64747171614",
       "version_major": 2,
       "version_minor": 0
      },
      "text/plain": [
       "Button(description='Refresh Button', icon='download', style=ButtonStyle(), tooltip='Keep calm and carry on')"
      ]
     },
     "metadata": {},
     "output_type": "display_data"
    }
   ],
   "source": [
    "# Place your API access code in this function. Do not call this function directly; it will be called by \n",
    "# the button callback. \n",
    "def access_api():\n",
    "    \"\"\" Accesses the PHE API. Returns raw data in the same format as data loaded from the \"canned\" JSON file. \"\"\"\n",
    "    return {} # return data read from the API\n",
    "\n",
    "# Printout from this function will be lost in Voila unless captured in an\n",
    "# output widget - therefore, we give feedback to the user by changing the \n",
    "# appearance of the button\n",
    "def api_button_callback(button):\n",
    "    \"\"\" Button callback - it must take the button as its parameter (unused in this case).\n",
    "    Accesses API, wrangles data, updates global variable df used for plotting. \"\"\"\n",
    "    # Get fresh data from the API. If you have time, include some error handling\n",
    "    # around this call.\n",
    "    apidata=access_api()\n",
    "    # wrangle the data and overwrite the dataframe for plotting\n",
    "    #global df\n",
    "    df=wrangle_data(apidata)\n",
    "    # the graph won't refresh until the user interacts with the widget.\n",
    "    # this function simulates the interaction, see Graph and Analysis below.\n",
    "    # you can omit this step in the first instance\n",
    "    refresh_graph()\n",
    "    # after all is done, you can switch the icon on the button to a \"check\" sign\n",
    "    # and optionally disable the button - it won't be needed again. You can use icons\n",
    "    # \"unlink\" or \"times\" and change the button text to \"Unavailable\" in case the \n",
    "    # api call fails.\n",
    "    apibutton.icon=\"check\"\n",
    "    apibutton.disabled=True\n",
    "\n",
    "    \n",
    "apibutton=wdg.Button(\n",
    "    description='Refresh Button', # you may want to change this...\n",
    "    disabled=False,\n",
    "    button_style='', # 'success', 'info', 'warning', 'danger' or ''\n",
    "    tooltip=\"Keep calm and carry on\",\n",
    "    # FontAwesome names without the `fa-` prefix - try \"download\"\n",
    "    icon='download'\n",
    ")\n",
    "\n",
    "# remember to register your button callback function with the button\n",
    "apibutton.on_click(api_button_callback) # the name of your function inside these brackets\n",
    "\n",
    "display(apibutton)\n",
    "\n",
    "# run all cells before clicking on this button"
   ]
  },
  {
   "cell_type": "code",
   "execution_count": 26,
   "id": "23f43f9c-b0b2-4cd5-acd6-109a55d2b1cb",
   "metadata": {},
   "outputs": [],
   "source": [
    "def plot_random_walk(walk):\n",
    "    df[walk].plot()\n",
    "    plt.show() # important! update won't work properly without this\n",
    "    \n",
    "whichwalk=wdg.Dropdown(\n",
    "    options=['hospitalCases', 'newAdmissions', 'transmissionRateGrowthRateMax', 'transmissionRateGrowthRateMin'],\n",
    "    value='hospitalCases',\n",
    "    description='Plot of: ',\n",
    "    disabled=False,\n",
    ")\n",
    "\n",
    "def refresh_graph():\n",
    "    \"\"\" We change the value of the widget in order to force a redraw of the graph;\n",
    "    this is useful when the data have been updated. This is a bit of a gimmick; it\n",
    "    needs to be customised for one of your widgets. \"\"\"\n",
    "    current=whichwalk.value\n",
    "    if current==whichwalk.options[0]:\n",
    "        other=whichwalk.options[1]\n",
    "    else:\n",
    "        other=whichwalk.options[0]\n",
    "    whichwalk.value=other # forces the redraw\n",
    "    whichwalk.value=current # now we can change it back"
   ]
  },
  {
   "cell_type": "code",
   "execution_count": 27,
   "id": "e639a897-b944-4f05-9689-8de783748d8d",
   "metadata": {},
   "outputs": [
    {
     "data": {
      "application/vnd.jupyter.widget-view+json": {
       "model_id": "5ed4f8a5b4544de695c52ac5119f9cbc",
       "version_major": 2,
       "version_minor": 0
      },
      "text/plain": [
       "Dropdown(description='Plot of: ', options=('hospitalCases', 'newAdmissions', 'transmissionRateGrowthRateMax', …"
      ]
     },
     "metadata": {},
     "output_type": "display_data"
    },
    {
     "data": {
      "application/vnd.jupyter.widget-view+json": {
       "model_id": "b9bee10f58cf4feea0e8e448381c3550",
       "version_major": 2,
       "version_minor": 0
      },
      "text/plain": [
       "Output()"
      ]
     },
     "metadata": {},
     "output_type": "display_data"
    }
   ],
   "source": [
    "graph=wdg.interactive_output(plot_random_walk, {'walk': whichwalk})\n",
    "    \n",
    "display(whichwalk, graph)"
   ]
  },
  {
   "cell_type": "code",
   "execution_count": 29,
   "id": "d8e1e842-3e49-4575-8e28-e5c5a193b5e0",
   "metadata": {},
   "outputs": [
    {
     "data": {
      "application/vnd.jupyter.widget-view+json": {
       "model_id": "5ed4f8a5b4544de695c52ac5119f9cbc",
       "version_major": 2,
       "version_minor": 0
      },
      "text/plain": [
       "Dropdown(description='Plot of: ', options=('hospitalCases', 'newAdmissions', 'transmissionRateGrowthRateMax', …"
      ]
     },
     "metadata": {},
     "output_type": "display_data"
    }
   ],
   "source": [
    "whichwalk"
   ]
  },
  {
   "cell_type": "code",
   "execution_count": null,
   "id": "306b5fc6-7cf2-403e-a7e5-878d9d8e08e6",
   "metadata": {},
   "outputs": [],
   "source": []
  },
  {
   "cell_type": "code",
   "execution_count": null,
   "id": "9289c5bc-766f-4a79-a6e0-cc50e9db78ac",
   "metadata": {},
   "outputs": [],
   "source": []
  }
 ],
 "metadata": {
  "kernelspec": {
   "display_name": "Python 3 (ipykernel)",
   "language": "python",
   "name": "python3"
  },
  "language_info": {
   "codemirror_mode": {
    "name": "ipython",
    "version": 3
   },
   "file_extension": ".py",
   "mimetype": "text/x-python",
   "name": "python",
   "nbconvert_exporter": "python",
   "pygments_lexer": "ipython3",
   "version": "3.9.6"
  }
 },
 "nbformat": 4,
 "nbformat_minor": 5
}
